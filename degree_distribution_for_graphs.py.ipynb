{
 "cells": [
  {
   "cell_type": "code",
   "execution_count": 3,
   "metadata": {},
   "outputs": [],
   "source": [
    "\"\"\"\n",
    "Provided code for Application portion of Module 1\n",
    "\n",
    "Imports physics citation graph \n",
    "\"\"\"\n",
    "import urllib2\n",
    "import matplotlib.pyplot as plt \n",
    "import numpy as np\n",
    "import math\n",
    "\n",
    "# Set timeout for CodeSkulptor if necessary\n",
    "#import codeskulptor\n",
    "#codeskulptor.set_timeout(20)"
   ]
  },
  {
   "cell_type": "code",
   "execution_count": 4,
   "metadata": {},
   "outputs": [],
   "source": [
    "###################################\n",
    "# Code for loading citation graph\n",
    "\n",
    "CITATION_URL = \"http://storage.googleapis.com/codeskulptor-alg/alg_phys-cite.txt\"\n",
    "\n",
    "def load_graph(graph_url):\n",
    "    \"\"\"\n",
    "    Function that loads a graph given the URL\n",
    "    for a text representation of the graph\n",
    "    \n",
    "    Returns a dictionary that models a graph\n",
    "    \"\"\"\n",
    "    graph_file = urllib2.urlopen(graph_url)\n",
    "    graph_text = graph_file.read()\n",
    "    graph_lines = graph_text.split('\\n')\n",
    "    graph_lines = graph_lines[ : -1]\n",
    "    \n",
    "    length=len(graph_lines)\n",
    "    \n",
    "    print \"Loaded graph with\", length, \"nodes\"\n",
    "    \n",
    "    answer_graph = {}\n",
    "    for line in graph_lines:\n",
    "        neighbors = line.split(' ')\n",
    "        node = int(neighbors[0])\n",
    "        answer_graph[node] = set([])\n",
    "        for neighbor in neighbors[1 : -1]:\n",
    "            answer_graph[node].add(int(neighbor))\n",
    "    return answer_graph, length"
   ]
  },
  {
   "cell_type": "code",
   "execution_count": 5,
   "metadata": {},
   "outputs": [],
   "source": [
    "\"\"\"\n",
    "Three dictionaries representing three directed graphs.\n",
    "\n",
    "Also included five functions:\n",
    "Using the number of nodes to create a complete directed graph;\n",
    "Using a directed graph to compute the number of degrees for the node;\n",
    "Using a directed graph to compute un-normailzed degrees of the in-degrees.\n",
    "Normalize a given in-degree distribution\n",
    "\n",
    "\"\"\"\n",
    "\n",
    "# EX_GRAPH0={0: set([1,2]), 1: set([]), 2: set([])}\n",
    "\n",
    "# EX_GRAPH1={0: set([1,4,5]), 1: set([2,6]), 2: set([3]),\n",
    "#           3: set([0]), 4: set([1]), 5: set([2]),6: set([])}\n",
    "\n",
    "# EX_GRAPH2={0: set([1,4,5]), 1: set([2,6]), 2: set([3,7]),\n",
    "#           3: set([7]), 4: set([1]), 5: set([2]),\n",
    "#           6: set([]), 7: set([3]), 8: set([1,2]), 9: set([0,3,4,5,6,7])}\n",
    "\n",
    "def make_complete_graph(num_nodes):\n",
    "    '''\n",
    "    Returns a dictionary corresponding to\n",
    "    a complete directed graph with the specified \n",
    "    number of nodes\n",
    "    '''\n",
    "    graph={}\n",
    "    if num_nodes==0:\n",
    "        return graph\n",
    "    else:\n",
    "        for node in range(num_nodes):\n",
    "            edge = [dummy_i for dummy_i in range(num_nodes) \\\n",
    "                    if node != dummy_i]\n",
    "            graph[node] = set(edge)\n",
    "        return graph\n",
    "\n",
    "#computing degree distributions\n",
    "def compute_in_degrees(digraph):\n",
    "    '''\n",
    "    Takes a graph and compute \n",
    "    in-degrees for the node in the graph\n",
    "    '''\n",
    "    in_graph={}\n",
    "    if digraph=={}:\n",
    "        return in_graph\n",
    "\n",
    "    for key in digraph.keys():\n",
    "        in_graph[key]=0\n",
    "    \n",
    "    for value in digraph.values():\n",
    "        for item in list(value):\n",
    "            in_graph[item]+=1\n",
    "        \n",
    "    return in_graph\n",
    "\n",
    "\n",
    "def in_degree_distribution(digraph):\n",
    "    '''\n",
    "    Takes a directed graph, computes the \n",
    "    unnormalized distribution of the in-degrees of the graph.\n",
    "    Return a dictionary whose keys correspond to \n",
    "    in-degrees of nodes in graph, and value is the \n",
    "    number of nodes with that in-degree.\n",
    "    ''' \n",
    "    freq_list={}\n",
    "    in_degree=compute_in_degrees(digraph)\n",
    "\n",
    "    for key in in_degree:\n",
    "        if freq_list.has_key(in_degree[key]):\n",
    "            freq_list[in_degree[key]]+=1\n",
    "        else:\n",
    "            freq_list[in_degree[key]]=1\n",
    "\n",
    "    return freq_list\n",
    "\n",
    "def normalize(distribution_graph, length):\n",
    "    length*=1.0\n",
    "    for key in distribution_graph:\n",
    "        distribution_graph[key]/= length\n",
    "    return distribution_graph\n",
    "\n",
    "# The function build_plot is for scodesculptor to do simulation\n",
    "# def build_plot(graph):\n",
    "#     \"\"\"\n",
    "#     Build plot of the number of increments in mystery function\n",
    "#     \"\"\"\n",
    "#     plot= {}\n",
    "#     for key in graph:\n",
    "#         if key != 0:\n",
    "#             plot[math.log(key*1.0)]=math.log(graph[key])       \n",
    "#     return plot"
   ]
  },
  {
   "cell_type": "markdown",
   "metadata": {},
   "source": [
    "# Question 1"
   ]
  },
  {
   "cell_type": "code",
   "execution_count": 6,
   "metadata": {},
   "outputs": [
    {
     "name": "stdout",
     "output_type": "stream",
     "text": [
      "Loaded graph with 27770 nodes\n"
     ]
    }
   ],
   "source": [
    "citation_graph, citation_length = load_graph(CITATION_URL)\n",
    "\n",
    "#compute the in-degree distribution for this citation graph, and normalize it\n",
    "in_degree_distribution= normalize(in_degree_distribution(citation_graph), citation_length)"
   ]
  },
  {
   "cell_type": "code",
   "execution_count": 7,
   "metadata": {},
   "outputs": [
    {
     "data": {
      "image/png": "[encoded data removed]",
      "text/plain": [
       "<Figure size 432x288 with 1 Axes>"
      ]
     },
     "metadata": {
      "needs_background": "light"
     },
     "output_type": "display_data"
    }
   ],
   "source": [
    "# make a plot using normalized/ un-logged data\n",
    "plt.plot(in_degree_distribution.keys(), in_degree_distribution.values(), 'r.')\n",
    "plt.title('Normalized In-degree Distribution of Paper Citation');\n",
    "plt.xlabel('In-degree')\n",
    "plt.ylabel('Proportion / Frequency')\n",
    "plt.show()\n",
    "plt.close()"
   ]
  },
  {
   "cell_type": "code",
   "execution_count": 8,
   "metadata": {},
   "outputs": [],
   "source": [
    "# compute a log/log plot of the points in this normalized distribution\n",
    "def make_log(citation_graph):\n",
    "    dic1={}\n",
    "    for key in citation_graph:\n",
    "        if key !=0:\n",
    "            dic1[math.log(key)]=math.log(citation_graph[key])\n",
    "    return dic1"
   ]
  },
  {
   "cell_type": "code",
   "execution_count": 9,
   "metadata": {},
   "outputs": [
    {
     "data": {
      "image/png": "[encoded data removed]",
      "text/plain": [
       "<Figure size 432x288 with 1 Axes>"
      ]
     },
     "metadata": {
      "needs_background": "light"
     },
     "output_type": "display_data"
    }
   ],
   "source": [
    "log_distribution = make_log(in_degree_distribution)\n",
    "\n",
    "plt.plot(log_distribution.keys(), log_distribution.values(), 'r.')\n",
    "plt.title('In-degree Distribution of Paper Citation (log)');\n",
    "plt.xlabel('log(In-degree)')\n",
    "plt.ylabel('log(Frequency)')\n",
    "plt.show()\n",
    "plt.close()"
   ]
  },
  {
   "cell_type": "markdown",
   "metadata": {},
   "source": [
    "# Question 2"
   ]
  },
  {
   "cell_type": "code",
   "execution_count": 10,
   "metadata": {},
   "outputs": [],
   "source": [
    "import random "
   ]
  },
  {
   "cell_type": "code",
   "execution_count": 11,
   "metadata": {},
   "outputs": [],
   "source": [
    "#generate random directed graphs with probability p\n",
    "def random_simulation(length, probability):\n",
    "    dict1={}\n",
    "    for dummy_i in range(length):    \n",
    "        dict1[dummy_i]=set()\n",
    "        for dummy_j in range(length):  \n",
    "            if dummy_i != dummy_j:\n",
    "                random_val=random.random()\n",
    "                if random_val < probability:\n",
    "                    dict1[dummy_i].add(dummy_j)            \n",
    "    return dict1"
   ]
  },
  {
   "cell_type": "code",
   "execution_count": 12,
   "metadata": {},
   "outputs": [
    {
     "ename": "KeyboardInterrupt",
     "evalue": "",
     "output_type": "error",
     "traceback": [
      "\u001b[0;31m---------------------------------------------------------------------------\u001b[0m",
      "\u001b[0;31mKeyboardInterrupt\u001b[0m                         Traceback (most recent call last)",
      "\u001b[0;32m<ipython-input-12-d5ea54e83ecb>\u001b[0m in \u001b[0;36m<module>\u001b[0;34m()\u001b[0m\n\u001b[1;32m      2\u001b[0m \u001b[0mprobability\u001b[0m\u001b[0;34m=\u001b[0m\u001b[0;36m0.6\u001b[0m\u001b[0;34m\u001b[0m\u001b[0m\n\u001b[1;32m      3\u001b[0m \u001b[0;34m\u001b[0m\u001b[0m\n\u001b[0;32m----> 4\u001b[0;31m \u001b[0mq2\u001b[0m \u001b[0;34m=\u001b[0m \u001b[0min_degree_distribution\u001b[0m\u001b[0;34m(\u001b[0m\u001b[0mrandom_simulation\u001b[0m\u001b[0;34m(\u001b[0m\u001b[0mlength\u001b[0m\u001b[0;34m,\u001b[0m \u001b[0mprobability\u001b[0m\u001b[0;34m)\u001b[0m\u001b[0;34m)\u001b[0m\u001b[0;34m\u001b[0m\u001b[0m\n\u001b[0m\u001b[1;32m      5\u001b[0m \u001b[0mq2_distribution\u001b[0m\u001b[0;34m=\u001b[0m \u001b[0mnormalize\u001b[0m\u001b[0;34m(\u001b[0m\u001b[0mq2\u001b[0m\u001b[0;34m,\u001b[0m\u001b[0mlength\u001b[0m\u001b[0;34m)\u001b[0m\u001b[0;34m\u001b[0m\u001b[0m\n",
      "\u001b[0;32m<ipython-input-11-a0461a3f9a26>\u001b[0m in \u001b[0;36mrandom_simulation\u001b[0;34m(length, probability)\u001b[0m\n\u001b[1;32m      8\u001b[0m                 \u001b[0mrandom_val\u001b[0m\u001b[0;34m=\u001b[0m\u001b[0mrandom\u001b[0m\u001b[0;34m.\u001b[0m\u001b[0mrandom\u001b[0m\u001b[0;34m(\u001b[0m\u001b[0;34m)\u001b[0m\u001b[0;34m\u001b[0m\u001b[0m\n\u001b[1;32m      9\u001b[0m                 \u001b[0;32mif\u001b[0m \u001b[0mrandom_val\u001b[0m \u001b[0;34m<\u001b[0m \u001b[0mprobability\u001b[0m\u001b[0;34m:\u001b[0m\u001b[0;34m\u001b[0m\u001b[0m\n\u001b[0;32m---> 10\u001b[0;31m                     \u001b[0mdict1\u001b[0m\u001b[0;34m[\u001b[0m\u001b[0mdummy_i\u001b[0m\u001b[0;34m]\u001b[0m\u001b[0;34m.\u001b[0m\u001b[0madd\u001b[0m\u001b[0;34m(\u001b[0m\u001b[0mdummy_j\u001b[0m\u001b[0;34m)\u001b[0m\u001b[0;34m\u001b[0m\u001b[0m\n\u001b[0m\u001b[1;32m     11\u001b[0m     \u001b[0;32mreturn\u001b[0m \u001b[0mdict1\u001b[0m\u001b[0;34m\u001b[0m\u001b[0m\n",
      "\u001b[0;31mKeyboardInterrupt\u001b[0m: "
     ]
    }
   ],
   "source": [
    "length = 10000\n",
    "probability=0.6\n",
    "\n",
    "q2 = in_degree_distribution(random_simulation(length, probability))\n",
    "q2_distribution= normalize(q2,length)"
   ]
  },
  {
   "cell_type": "code",
   "execution_count": null,
   "metadata": {},
   "outputs": [],
   "source": [
    "# make a plot using normalized/ un-logged data\n",
    "plt.plot(q2_distribution.keys(), q2_distribution.values(), 'r.')\n",
    "plt.title('Normalized In-degree Distribution of ER p=0.6');\n",
    "plt.xlabel('In-degree')\n",
    "plt.ylabel('Proportion / Frequency')\n",
    "plt.show()\n",
    "plt.close()"
   ]
  },
  {
   "cell_type": "code",
   "execution_count": null,
   "metadata": {},
   "outputs": [],
   "source": [
    "q2_log_distribution = make_log(q2_distribution)\n",
    "\n",
    "plt.plot(q2_log_distribution.keys(), q2_log_distribution.values(), 'r.')\n",
    "plt.title('In-degree Distribution of ER p=0.6 (log)');\n",
    "plt.xlabel('log(In-degree)')\n",
    "plt.ylabel('log(Frequency)')\n",
    "plt.show()\n",
    "plt.close()"
   ]
  },
  {
   "cell_type": "markdown",
   "metadata": {},
   "source": [
    "1. Is the expected value of the in-degree the same for every node in an ER graph?\n",
    "Yes.  The expected value of in-degree is (n-1)*p for every node of ER(n, p)\n",
    "2. What does the in-degree distribution for an ER graph look like? \n",
    "The dot plot of in-degree distribution forms the shape of normal distribution centered at sample_size* probability.\n",
    "3. Does the shape of the in-degree distribution plot for ER look similar to the shape of the in-degree distribution for the citation graph?  \n",
    "Points mostly fall on in-degree between 0 and 500 for citation graph, whereas more points are at the center of the normal distribution (sample_size*probability).\n",
    "Points in both curves can be approximated by non-linear curve/ The cohenrence of the points exist in both graphs. Citation can be approximated by a logarithmic curve, and ER can be described by a Gaussian function, even though is some randomness in ER graph.\n",
    "In citation graph, the slope decreases and then goes up. In ER graph, the slope goes up first and then down."
   ]
  },
  {
   "cell_type": "markdown",
   "metadata": {},
   "source": [
    "# Question 3"
   ]
  },
  {
   "cell_type": "code",
   "execution_count": 13,
   "metadata": {},
   "outputs": [
    {
     "name": "stdout",
     "output_type": "stream",
     "text": [
      "12.7032048974\n"
     ]
    }
   ],
   "source": [
    "#average out-degree of physics citation graph: equal to average in-degree\n",
    "\n",
    "def get_avg_degree(in_graph):\n",
    "    '''\n",
    "    take a in_graph and return an integer average in/out degree of the graph\n",
    "    '''\n",
    "    length=0\n",
    "    total_degree=0\n",
    "    in_degree=compute_in_degrees(citation_graph)\n",
    "    for key in in_degree:\n",
    "        length+=1\n",
    "        total_degree+=in_degree[key]\n",
    "    \n",
    "    total_degree*=1.0\n",
    "    return total_degree/length\n",
    "\n",
    "print get_avg_degree(citation_graph)"
   ]
  },
  {
   "cell_type": "markdown",
   "metadata": {},
   "source": [
    "m edge (avg out-degree of citation graph): 12.7\n",
    "n node: 28000"
   ]
  },
  {
   "cell_type": "markdown",
   "metadata": {},
   "source": [
    "# Question 4"
   ]
  },
  {
   "cell_type": "code",
   "execution_count": 14,
   "metadata": {},
   "outputs": [],
   "source": [
    "\"\"\"\n",
    "Provided code for application portion of module 1\n",
    "\n",
    "Helper class for implementing efficient version\n",
    "of DPA algorithm\n",
    "\"\"\"\n",
    "class DPATrial:\n",
    "    \"\"\"\n",
    "    Simple class to encapsulate optimized trials for DPA algorithm\n",
    "    \n",
    "    Maintains a list of node numbers with multiple instances of each number.\n",
    "    The number of instances of each node number are\n",
    "    in the same proportion as the desired probabilities\n",
    "    \n",
    "    Uses random.choice() to select a node number from this list for each trial.\n",
    "    \"\"\"\n",
    "\n",
    "    def __init__(self, num_nodes):\n",
    "        \"\"\"\n",
    "        Initialize a DPATrial object corresponding to a \n",
    "        complete graph with num_nodes nodes\n",
    "        \n",
    "        Note the initial list of node numbers has num_nodes copies of\n",
    "        each node number\n",
    "        \"\"\"\n",
    "        self._num_nodes = num_nodes\n",
    "        self._node_numbers = [node for node in range(num_nodes) for dummy_idx in range(num_nodes)]\n",
    "\n",
    "    def run_trial(self, num_nodes):\n",
    "        \"\"\"\n",
    "        Conduct num_node trials using by applying random.choice()\n",
    "        to the list of node numbers\n",
    "        \n",
    "        Updates the list of node numbers so that the number of instances of\n",
    "        each node number is in the same ratio as the desired probabilities\n",
    "        \n",
    "        Returns:\n",
    "        Set of nodes\n",
    "        \"\"\"\n",
    "        \n",
    "        # compute the neighbors for the newly-created node\n",
    "        new_node_neighbors = set()\n",
    "        for dummy_idx in range(num_nodes):\n",
    "            new_node_neighbors.add(random.choice(self._node_numbers))\n",
    "        \n",
    "        # update the list of node numbers so that each node number \n",
    "        # appears in the correct ratio\n",
    "        self._node_numbers.append(self._num_nodes)\n",
    "        self._node_numbers.extend(list(new_node_neighbors))\n",
    "        \n",
    "        #update the number of nodes\n",
    "        self._num_nodes += 1\n",
    "        return new_node_neighbors\n",
    "\n",
    "def func_dpa(node_num, m):\n",
    "    '''\n",
    "    Generate a full graph using algorithm DPA\n",
    "    \n",
    "    node_num: final number of nodes\n",
    "    m: the existing number of nodes\n",
    "    '''\n",
    "    in_graph=make_complete_graph(m)\n",
    "    dpa=DPATrial(m)\n",
    "    for dummy_i in range(m, node_num):\n",
    "        node_list= dpa.run_trial(m)\n",
    "        in_graph[dummy_i] = node_list\n",
    "        for node in node_list:\n",
    "            in_graph[node].add(dummy_i)\n",
    "            \n",
    "    return in_graph"
   ]
  },
  {
   "cell_type": "code",
   "execution_count": 186,
   "metadata": {},
   "outputs": [
    {
     "data": {
      "image/png": "[encoded data removed]",
      "text/plain": [
       "<Figure size 432x288 with 1 Axes>"
      ]
     },
     "metadata": {
      "needs_background": "light"
     },
     "output_type": "display_data"
    }
   ],
   "source": [
    "plt.plot(dpa_normalized.keys(), dpa_normalized.values(), 'r.')\n",
    "plt.title('In-degree Distribution of dpa_normalized');\n",
    "plt.xlabel('In-degree')\n",
    "plt.ylabel('Frequency')\n",
    "plt.show()\n",
    "plt.close()"
   ]
  },
  {
   "cell_type": "code",
   "execution_count": 187,
   "metadata": {},
   "outputs": [
    {
     "data": {
      "image/png": "[encoded data removed]",
      "text/plain": [
       "<Figure size 432x288 with 1 Axes>"
      ]
     },
     "metadata": {
      "needs_background": "light"
     },
     "output_type": "display_data"
    }
   ],
   "source": [
    "dpa_log_normalized = make_log(dpa_normalized)\n",
    "\n",
    "plt.plot(dpa_log_normalized.keys(), dpa_log_normalized.values(), 'r.')\n",
    "plt.title('In-degree Distribution of dpa_normalized (log)');\n",
    "plt.xlabel('log(In-degree)')\n",
    "plt.ylabel('log(Frequency)')\n",
    "plt.show()\n",
    "plt.close()"
   ]
  },
  {
   "cell_type": "markdown",
   "metadata": {},
   "source": [
    "# Question 5"
   ]
  },
  {
   "cell_type": "markdown",
   "metadata": {},
   "source": [
    "1. Is the plot of the in-degree distribution for the DPA graph similar to that of the citation graph? \n",
    "There are similar number of points in the DPA and citation plots.\n",
    "There is coherence in both plots, which can be approximated by non-linear logarithmic curves.\n",
    "The slopes of two lines both decreases first and then goes up (stay nearly as horizontal line).\n",
    "2. Which one of the three social phenomena listed above mimics the behavior of the DPA process?\n",
    "The \"Hierarchical structure of networks\" phenomenon. Both are iterative algorithms that grow a cluster from an initial one by following a certain rule.\n",
    "3. Could one of these phenomena explain the structure of the physics citation graph? \n",
    "The \"rich gets richer\" phenomenon. From the normalized in-degree distribution graph we see that it can be described by power-law distribution, meaning that a small number of papers get the most of the citations."
   ]
  },
  {
   "cell_type": "code",
   "execution_count": null,
   "metadata": {},
   "outputs": [],
   "source": [
    "#http://www.codeskulptor.org/#user46_KqH4jvJ6DWsgXtw_0.py\n",
    "#http://www.codeskulptor.org/#user46_2bhe79mDgn_4.py\n",
    "#http://www.codeskulptor.org/#user46_MDWaUylETR_8.py"
   ]
  }
 ],
 "metadata": {
  "kernelspec": {
   "display_name": "Python 2",
   "language": "python",
   "name": "python2"
  },
  "language_info": {
   "codemirror_mode": {
    "name": "ipython",
    "version": 2
   },
   "file_extension": ".py",
   "mimetype": "text/x-python",
   "name": "python",
   "nbconvert_exporter": "python",
   "pygments_lexer": "ipython2",
   "version": "2.7.16"
  }
 },
 "nbformat": 4,
 "nbformat_minor": 2
}
