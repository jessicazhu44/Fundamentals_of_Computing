{
 "cells": [
  {
   "cell_type": "code",
   "execution_count": null,
   "metadata": {},
   "outputs": [],
   "source": [
    "\"\"\"\n",
    "Project 4\n",
    "\"\"\""
   ]
  },
  {
   "cell_type": "code",
   "execution_count": 3,
   "metadata": {},
   "outputs": [],
   "source": [
    "\"\"\"\n",
    "Provide code and solution for Application 4\n",
    "\"\"\"\n",
    "\n",
    "DESKTOP = True\n",
    "\n",
    "import math\n",
    "import random\n",
    "import urllib2\n",
    "import copy\n",
    "if DESKTOP:\n",
    "    import matplotlib.pyplot as plt\n",
    "    #import alg_project4_solution as student\n",
    "else:\n",
    "    import simpleplot\n",
    "    import userXX_XXXXXXX as student\n",
    "    \n",
    "\n",
    "# URLs for data files\n",
    "PAM50_URL = \"http://storage.googleapis.com/codeskulptor-alg/alg_PAM50.txt\"\n",
    "HUMAN_EYELESS_URL = \"http://storage.googleapis.com/codeskulptor-alg/alg_HumanEyelessProtein.txt\"\n",
    "FRUITFLY_EYELESS_URL = \"http://storage.googleapis.com/codeskulptor-alg/alg_FruitflyEyelessProtein.txt\"\n",
    "CONSENSUS_PAX_URL = \"http://storage.googleapis.com/codeskulptor-alg/alg_ConsensusPAXDomain.txt\"\n",
    "WORD_LIST_URL = \"http://storage.googleapis.com/codeskulptor-assets/assets_scrabble_words3.txt\"\n",
    "\n",
    "###############################################\n",
    "# provided code\n",
    "\n",
    "def read_scoring_matrix(filename):\n",
    "    \"\"\"\n",
    "    Read a scoring matrix from the file named filename.  \n",
    "\n",
    "    Argument:\n",
    "    filename -- name of file containing a scoring matrix\n",
    "\n",
    "    Returns:\n",
    "    A dictionary of dictionaries mapping X and Y characters to scores\n",
    "    \"\"\"\n",
    "    scoring_dict = {}\n",
    "    scoring_file = urllib2.urlopen(filename)\n",
    "    ykeys = scoring_file.readline()\n",
    "    ykeychars = ykeys.split()\n",
    "    for line in scoring_file.readlines():\n",
    "        vals = line.split()\n",
    "        xkey = vals.pop(0)\n",
    "        scoring_dict[xkey] = {}\n",
    "        for ykey, val in zip(ykeychars, vals):\n",
    "            scoring_dict[xkey][ykey] = int(val)\n",
    "    return scoring_dict\n",
    "\n",
    "def read_protein(filename):\n",
    "    \"\"\"\n",
    "    Read a protein sequence from the file named filename.\n",
    "\n",
    "    Arguments:\n",
    "    filename -- name of file containing a protein sequence\n",
    "\n",
    "    Returns:\n",
    "    A string representing the protein\n",
    "    \"\"\"\n",
    "    protein_file = urllib2.urlopen(filename)\n",
    "    protein_seq = protein_file.read()\n",
    "    protein_seq = protein_seq.rstrip()\n",
    "    return protein_seq\n",
    "\n",
    "def read_words(filename):\n",
    "    \"\"\"\n",
    "    Load word list from the file named filename.\n",
    "\n",
    "    Returns a list of strings.\n",
    "    \"\"\"\n",
    "    # load assets\n",
    "    word_file = urllib2.urlopen(filename)\n",
    "    \n",
    "    # read in files as string\n",
    "    words = word_file.read()\n",
    "    \n",
    "    # template lines and solution lines list of line string\n",
    "    word_list = words.split('\\n')\n",
    "    print \"Loaded a dictionary with\", len(word_list), \"words\"\n",
    "    return word_list\n"
   ]
  },
  {
   "cell_type": "code",
   "execution_count": 17,
   "metadata": {},
   "outputs": [],
   "source": [
    "\"\"\"\n",
    "Project 4: Matrix Function\n",
    "http://www.codeskulptor.org/#user46_g69FbaRU4b_49.py\n",
    "\"\"\"\n",
    "\n",
    "def build_scoring_matrix(alphabet,diag_score,off_diag_score,dash_score):\n",
    "    \"\"\"\n",
    "    Takes a set of characters alphabet and three scores,\n",
    "    returns a dictionary of dictionaries whose entries \n",
    "    are indexed by pairs of characters in alphabet and '-'\n",
    "    \"\"\"\n",
    "    scoring_matrix = {}\n",
    "    alphabet1=list(alphabet)\n",
    "    alphabet1.append('-')\n",
    "    for dummy_1 in alphabet1:\n",
    "        scoring_matrix[dummy_1] = {}\n",
    "        for dummy_2 in alphabet1:\n",
    "            if dummy_1 == '-' or dummy_2 == '-':\n",
    "                scoring_matrix[dummy_1][dummy_2] = dash_score\n",
    "            elif dummy_1 == dummy_2:\n",
    "                scoring_matrix[dummy_1][dummy_2] = diag_score  \n",
    "            else: \n",
    "                scoring_matrix[dummy_1][dummy_2] = off_diag_score\n",
    "    return scoring_matrix\n",
    "\n",
    "def compute_alignment_matrix(seq_x, seq_y, scoring_matrix, global_flag):\n",
    "    \"\"\"\n",
    "    Compute alignment matrix by taking two sequences and a scoring matrix\n",
    "    Global_flag can be True or False (negative num = 0)\n",
    "    \"\"\"\n",
    "    len_x = len(seq_x)\n",
    "    len_y = len(seq_y)\n",
    "    alignment_matrix = [[0 for dummy_i in range(len_y+1)] for dummy_j in range(len_x+1)]\n",
    "\n",
    "    for dummy_i in range(1, len_x+1, 1):\n",
    "        val = alignment_matrix[dummy_i-1][0]+scoring_matrix[seq_x[dummy_i-1]]['-']\n",
    "        alignment_matrix[dummy_i][0] = 0 if global_flag ==False and val < 0 else val\n",
    "\n",
    "    for dummy_j in range(1,len_y+1,1):\n",
    "        val = alignment_matrix[0][dummy_j-1]+scoring_matrix['-'][seq_y[dummy_j-1]]\n",
    "        alignment_matrix[0][dummy_j] = 0 if global_flag ==False and val < 0 else val\n",
    "    \n",
    "    for dummy_i in range(1, len_x+1, 1):\n",
    "        for dummy_j in range(1, len_y+1, 1):\n",
    "            val = [alignment_matrix[dummy_i-1][dummy_j-1]+scoring_matrix[seq_x[dummy_i-1]][seq_y[dummy_j-1]]]\n",
    "            val.append(alignment_matrix[dummy_i-1][dummy_j]+scoring_matrix[seq_x[dummy_i-1]]['-'])\n",
    "            val.append(alignment_matrix[dummy_i][dummy_j-1]+scoring_matrix['-'][seq_y[dummy_j-1]])\n",
    "            max_val = max(val)\n",
    "            alignment_matrix[dummy_i][dummy_j] = 0 if global_flag ==False and max_val < 0 else max_val                                                                      \n",
    "    \n",
    "    return alignment_matrix\n",
    "\n",
    "def compute_global_alignment(seq_x,seq_y,scoring_matrix,alignment_matrix):\n",
    "    \"\"\"\n",
    "    Computes global alignment of two sequences using alignment matrix;\n",
    "    Returns tuple (score,align_x,align_y);\n",
    "    score is the alignment score of align_x, align_y of the same length\n",
    "    Scoring_matrix M, alignment_matrix S\n",
    "    \"\"\"\n",
    "    len_x = len(seq_x)\n",
    "    len_y = len(seq_y)\n",
    "    \n",
    "    dummy_i = len_x\n",
    "    dummy_j = len_y\n",
    "    \n",
    "    x_prime = ''\n",
    "    y_prime = ''\n",
    "    score = alignment_matrix[dummy_i][dummy_j]\n",
    "    \n",
    "    while dummy_i != 0 and dummy_j !=0:\n",
    "        if alignment_matrix[dummy_i][dummy_j] == alignment_matrix[dummy_i-1][dummy_j-1]+\\\n",
    "        scoring_matrix[seq_x[dummy_i-1]][seq_y[dummy_j-1]]:\n",
    "            x_prime = seq_x[dummy_i-1] + x_prime\n",
    "            y_prime = seq_y[dummy_j-1] + y_prime\n",
    "            dummy_i -=1\n",
    "            dummy_j -=1\n",
    "        else:\n",
    "            if alignment_matrix[dummy_i][dummy_j] == alignment_matrix[dummy_i-1][dummy_j]+\\\n",
    "        scoring_matrix[seq_x[dummy_i-1]]['-']:\n",
    "                x_prime = seq_x[dummy_i-1] + x_prime\n",
    "                y_prime = '-' + y_prime            \n",
    "                dummy_i -=1\n",
    "            else:\n",
    "                x_prime = '-' + x_prime\n",
    "                y_prime = seq_y[dummy_j-1] + y_prime       \n",
    "                dummy_j -=1  \n",
    "    while dummy_i != 0:\n",
    "        x_prime = seq_x[dummy_i-1] + x_prime\n",
    "        y_prime = '-' + y_prime            \n",
    "        dummy_i -=1   \n",
    "    while dummy_j != 0:\n",
    "        x_prime = '-' + x_prime\n",
    "        y_prime = seq_y[dummy_j-1] + y_prime       \n",
    "        dummy_j -=1  \n",
    "\n",
    "    return (score, x_prime, y_prime)\n",
    "\n",
    "def compute_local_alignment(seq_x,seq_y,scoring_matrix,alignment_matrix):\n",
    "    \"\"\"\n",
    "    Computes local alignment of two sequences using alignment matrix;\n",
    "    Returns tuple (score,align_x,align_y);\n",
    "    score is the alignment score of align_x, align_y of the same length\n",
    "    Scoring_matrix M, alignment_matrix S\n",
    "    \"\"\"\n",
    "    len_x = len(seq_x)\n",
    "    len_y = len(seq_y)\n",
    "    \n",
    "    score = alignment_matrix[len_x][len_y]\n",
    "\n",
    "    dummy_i = len_x\n",
    "    dummy_j = len_y\n",
    "    \n",
    "    x_prime = ''\n",
    "    y_prime = ''\n",
    "\n",
    "    for dummy_m in range(len_x, -1, -1):\n",
    "        for dummy_n in range(len_y, -1, -1):\n",
    "            if alignment_matrix[dummy_m][dummy_n] > score:\n",
    "                score = alignment_matrix[dummy_m][dummy_n] \n",
    "                dummy_i = dummy_m\n",
    "                dummy_j = dummy_n\n",
    "\n",
    "    while alignment_matrix[dummy_i][dummy_j] !=0:\n",
    "        if alignment_matrix[dummy_i][dummy_j] == alignment_matrix[dummy_i-1][dummy_j-1]+\\\n",
    "        scoring_matrix[seq_x[dummy_i-1]][seq_y[dummy_j-1]]:\n",
    "            x_prime = seq_x[dummy_i-1] + x_prime\n",
    "            y_prime = seq_y[dummy_j-1] + y_prime\n",
    "            dummy_i -=1\n",
    "            dummy_j -=1\n",
    "        else:\n",
    "            if alignment_matrix[dummy_i][dummy_j] == alignment_matrix[dummy_i-1][dummy_j]+\\\n",
    "        scoring_matrix[seq_x[dummy_i-1]]['-']:\n",
    "                x_prime = seq_x[dummy_i-1] + x_prime\n",
    "                y_prime = '-' + y_prime            \n",
    "                dummy_i -=1\n",
    "            else:\n",
    "                x_prime = '-' + x_prime\n",
    "                y_prime = seq_y[dummy_j-1] + y_prime       \n",
    "                dummy_j -=1  \n",
    "\n",
    "    return (score, x_prime, y_prime)\n"
   ]
  },
  {
   "cell_type": "markdown",
   "metadata": {},
   "source": [
    "# Question 1"
   ]
  },
  {
   "cell_type": "code",
   "execution_count": 12,
   "metadata": {},
   "outputs": [],
   "source": [
    "# load files\n",
    "human_protein = read_protein(HUMAN_EYELESS_URL)\n",
    "fly_protein = read_protein(FRUITFLY_EYELESS_URL)\n",
    "pam_50 = read_scoring_matrix(PAM50_URL)  #amino acid scoring matrix"
   ]
  },
  {
   "cell_type": "code",
   "execution_count": 20,
   "metadata": {},
   "outputs": [],
   "source": [
    "# compute the local alignments of the sequences; and enter the score and local alignments\n",
    "human_fly_alignment_matrix = compute_alignment_matrix(human_protein, fly_protein, pam_50, False) #local one with False\n",
    "#human_ply_global_alignment = compute_global_alignment(human_protein, fly_protein, pam_50, human_fly_alignment_matrix)\n",
    "human_fly_local_alignment = compute_local_alignment(human_protein, fly_protein, pam_50, human_fly_alignment_matrix)"
   ]
  },
  {
   "cell_type": "code",
   "execution_count": 63,
   "metadata": {},
   "outputs": [
    {
     "name": "stdout",
     "output_type": "stream",
     "text": [
      "local alignment score: 875\n",
      "human sequence: HSGVNQLGGVFVNGRPLPDSTRQKIVELAHSGARPCDISRILQVSNGCVSKILGRYYETGSIRPRAIGGSKPRVATPEVVSKIAQYKRECPSIFAWEIRDRLLSEGVCTNDNIPSVSSINRVLRNLASEK-QQ\n",
      "fly sequence: HSGVNQLGGVFVGGRPLPDSTRQKIVELAHSGARPCDISRILQVSNGCVSKILGRYYETGSIRPRAIGGSKPRVATAEVVSKISQYKRECPSIFAWEIRDRLLQENVCTNDNIPSVSSINRVLRNLAAQKEQQ\n"
     ]
    }
   ],
   "source": [
    "print 'local alignment score: '+ str(human_fly_local_alignment[0])\n",
    "print 'human sequence: '+ str(human_fly_local_alignment[1])\n",
    "print 'fly sequence: '+ str(human_fly_local_alignment[2])"
   ]
  },
  {
   "cell_type": "markdown",
   "metadata": {},
   "source": [
    "# Question 2"
   ]
  },
  {
   "cell_type": "code",
   "execution_count": 25,
   "metadata": {},
   "outputs": [],
   "source": [
    "consensus = read_protein(CONSENSUS_PAX_URL) #load the concensus DNA sequence"
   ]
  },
  {
   "cell_type": "code",
   "execution_count": 33,
   "metadata": {},
   "outputs": [],
   "source": [
    "# delete dashes in fly and human sequences\n",
    "human_seq = human_fly_local_alignment[1]\n",
    "human_seq_clean = filter(lambda ele: ele != '-', human_seq)\n",
    "fly_seq=human_fly_local_alignment[2]\n",
    "fly_seq_clean = filter(lambda ele: ele != '-', fly_seq)"
   ]
  },
  {
   "cell_type": "code",
   "execution_count": 36,
   "metadata": {},
   "outputs": [],
   "source": [
    "# compute global alignment of dashless local human/fly sequences with concensus PAX sequence\n",
    "human_concensus_alignment_matrix = compute_alignment_matrix(human_seq_clean, consensus, pam_50, True)\n",
    "human_concensus_global = compute_global_alignment(human_seq_clean,consensus,pam_50,human_concensus_alignment_matrix)\n",
    "fly_concensus_alignment_matrix = compute_alignment_matrix(fly_seq_clean, consensus, pam_50, True)\n",
    "fly_concensus_global = compute_global_alignment(fly_seq_clean,consensus,pam_50,fly_concensus_alignment_matrix)"
   ]
  },
  {
   "cell_type": "code",
   "execution_count": 59,
   "metadata": {},
   "outputs": [
    {
     "name": "stdout",
     "output_type": "stream",
     "text": [
      "-HSGVNQLGGVFVNGRPLPDSTRQKIVELAHSGARPCDISRILQVSNGCVSKILGRYYETGSIRPRAIGGSKPRVATPEVVSKIAQYKRECPSIFAWEIRDRLLSEGVCTNDNIPSVSSINRVLRNLASEKQQ\n",
      "GHGGVNQLGGVFVNGRPLPDVVRQRIVELAHQGVRPCDISRQLRVSHGCVSKILGRYYETGSIKPGVIGGSKPKVATPKVVEKIAEYKRQNPTMFAWEIRDRLLAERVCDNDTVPSVSSINRIIR--------\n",
      "\n",
      "-HSGVNQLGGVFVGGRPLPDSTRQKIVELAHSGARPCDISRILQVSNGCVSKILGRYYETGSIRPRAIGGSKPRVATAEVVSKISQYKRECPSIFAWEIRDRLLQENVCTNDNIPSVSSINRVLRNLAAQKEQQ\n",
      "GHGGVNQLGGVFVNGRPLPDVVRQRIVELAHQGVRPCDISRQLRVSHGCVSKILGRYYETGSIKPGVIGGSKPKVATPKVVEKIAEYKRQNPTMFAWEIRDRLLAERVCDNDTVPSVSSINRIIR---------\n"
     ]
    }
   ],
   "source": [
    "# Compare corresponding elements of these two globally-aligned sequences (local vs. consensus) \n",
    "# human vs. concensus\n",
    "print human_concensus_global[1]\n",
    "print human_concensus_global[2]\n",
    "\n",
    "print \n",
    "# fly vs. concensus\n",
    "print fly_concensus_global[1]\n",
    "print fly_concensus_global[2]"
   ]
  },
  {
   "cell_type": "code",
   "execution_count": 64,
   "metadata": {},
   "outputs": [
    {
     "name": "stdout",
     "output_type": "stream",
     "text": [
      "human vs. consensus: 0.729323308271\n",
      "fly vs. consensus: 0.701492537313\n"
     ]
    }
   ],
   "source": [
    "#compute the percentage of elements in these two sequences that agree. (human/fly vs concensus)\n",
    "def compute_agreement(seq_x, seq_y):\n",
    "    \"\"\"\n",
    "    Compute the percentage of elements in these two sequences that agree\n",
    "    \"\"\"\n",
    "    length = len(seq_x)\n",
    "    count = 0.0\n",
    "    for dummy_i in range(length):\n",
    "        if seq_x[dummy_i] == seq_y[dummy_i]:\n",
    "            count +=1\n",
    "    return count/length\n",
    "print 'human vs. consensus: '+str(compute_agreement(human_concensus_global[1], human_concensus_global[2]))\n",
    "print 'fly vs. consensus: '+str(compute_agreement(fly_concensus_global[1], fly_concensus_global[2]))"
   ]
  },
  {
   "cell_type": "markdown",
   "metadata": {},
   "source": [
    "# Question 3"
   ]
  },
  {
   "cell_type": "markdown",
   "metadata": {},
   "source": [
    "The length of the local alignment(Q1) between human and fly protein is 133. The length of the global alignment of human/fly to consensus is 134. The chance that there is 134 amino acid similar between two sequences is 1/23**(134), which is nearly 0. Thus it is hardly by chance that the local alignment in Q1 and the global alignments in Q2 are by chance."
   ]
  },
  {
   "cell_type": "markdown",
   "metadata": {},
   "source": [
    "# Question 4"
   ]
  },
  {
   "cell_type": "code",
   "execution_count": 21,
   "metadata": {},
   "outputs": [],
   "source": [
    "def compute_alignment_matrix_local(seq_x, seq_y, scoring_matrix):\n",
    "    \"\"\"\n",
    "    2nd version of compute_alignment_matrix to simplify computation\n",
    "    Compute alignment matrix by taking two sequences and a scoring matrix\n",
    "    Global_flag to be False for local\n",
    "    \"\"\"\n",
    "    len_x = len(seq_x)\n",
    "    len_y = len(seq_y)\n",
    "    alignment_matrix = [[0 for dummy_i in range(len_y+1)] for dummy_j in range(len_x+1)]\n",
    "\n",
    "    for dummy_i in range(1, len_x+1, 1):\n",
    "        val = alignment_matrix[dummy_i-1][0]+scoring_matrix[seq_x[dummy_i-1]]['-']\n",
    "        alignment_matrix[dummy_i][0] = val if val >= 0 else 0\n",
    "\n",
    "    for dummy_j in range(1,len_y+1,1):\n",
    "        val = alignment_matrix[0][dummy_j-1]+scoring_matrix['-'][seq_y[dummy_j-1]]\n",
    "        alignment_matrix[0][dummy_j] = val if val >= 0 else 0\n",
    "    \n",
    "    for dummy_i in range(1, len_x+1, 1):\n",
    "        for dummy_j in range(1, len_y+1, 1):\n",
    "            val = [alignment_matrix[dummy_i-1][dummy_j-1]+scoring_matrix[seq_x[dummy_i-1]][seq_y[dummy_j-1]],\n",
    "                  alignment_matrix[dummy_i-1][dummy_j]+scoring_matrix[seq_x[dummy_i-1]]['-'],\n",
    "                  alignment_matrix[dummy_i][dummy_j-1]+scoring_matrix['-'][seq_y[dummy_j-1]]]\n",
    "            val.sort()\n",
    "            alignment_matrix[dummy_i][dummy_j] = val[-1] if val[-1] >= 0 else 0                                                                     \n",
    "    \n",
    "    score = alignment_matrix[len_x][len_y]\n",
    "    \n",
    "    for dummy_m in range(len_x, -1, -1):\n",
    "        for dummy_n in range(len_y, -1, -1):\n",
    "            if alignment_matrix[dummy_m][dummy_n] > score:\n",
    "                score = alignment_matrix[dummy_m][dummy_n]     \n",
    "    \n",
    "    return score"
   ]
  },
  {
   "cell_type": "code",
   "execution_count": 137,
   "metadata": {},
   "outputs": [],
   "source": [
    "def generate_null_distribution(seq_x,seq_y,scoring_matrix,num_trials):\n",
    "    \"\"\"\n",
    "    Returns a dictionary scoring_distribution that \n",
    "    represents an un-normalized distribution generated \n",
    "    by performing a process num_trials times\n",
    "    \"\"\"\n",
    "    scoring_distribution = {}\n",
    "    \n",
    "    for time in range(num_trials):\n",
    "        rand_y = list(seq_y)\n",
    "        random.shuffle(rand_y) #shuffle makes each trial/rand_y different       \n",
    "        rand_y = ''.join(rand_y)\n",
    "        \n",
    "        score = compute_alignment_matrix_local(seq_x, rand_y, scoring_matrix) #local alignment\n",
    "        #score = compute_local_alignment_score(seq_x,rand_y,scoring_matrix,alignment_matrix)\n",
    "        \n",
    "        if score not in scoring_distribution:\n",
    "            scoring_distribution[score] = 1\n",
    "        else:\n",
    "            scoring_distribution[score] +=1\n",
    "    \n",
    "    return scoring_distribution"
   ]
  },
  {
   "cell_type": "code",
   "execution_count": 138,
   "metadata": {},
   "outputs": [
    {
     "name": "stdout",
     "output_type": "stream",
     "text": [
      "{39: 3, 40: 5, 41: 16, 42: 17, 43: 25, 44: 33, 45: 57, 46: 64, 47: 55, 48: 72, 49: 70, 50: 65, 51: 59, 52: 57, 53: 55, 54: 45, 55: 45, 56: 40, 57: 33, 58: 19, 59: 23, 60: 30, 61: 14, 62: 14, 63: 13, 64: 13, 65: 13, 66: 6, 67: 6, 68: 10, 69: 4, 71: 2, 72: 3, 73: 3, 75: 2, 76: 4, 78: 2, 79: 1, 82: 1, 88: 1}\n"
     ]
    }
   ],
   "source": [
    "#create a distribution with 1000 trials using the protein sequences HumanEyelessProtein and FruitflyEyelessProtein\n",
    "human_fly_distribution = generate_null_distribution(human_protein,fly_protein,pam_50,1000) #{score: frequency}\n",
    "print human_fly_distribution"
   ]
  },
  {
   "cell_type": "code",
   "execution_count": 139,
   "metadata": {},
   "outputs": [
    {
     "data": {
      "image/png": "[encoded data removed]",
      "text/plain": [
       "<Figure size 432x288 with 1 Axes>"
      ]
     },
     "metadata": {
      "needs_background": "light"
     },
     "output_type": "display_data"
    }
   ],
   "source": [
    "# create a bar plot of the normalized version of this distribution\n",
    "def normalized_distribution_plot(distribution_dic, num_trials):\n",
    "    #The horizontal axis should be the \n",
    "    #scores and the vertical axis should be \n",
    "    #the fraction of total trials corresponding to each score.\n",
    "    xvals=[]\n",
    "    yvals=[]\n",
    "    #total = 0\n",
    "    for score in distribution_dic:\n",
    "        xvals.append(score)\n",
    "        #y_val = distribution_dic[score]/ float(num_trials)\n",
    "        yvals.append(distribution_dic[score]/ float(num_trials))\n",
    "        #total += (score * y_val) \n",
    "\n",
    "    #plot results\n",
    "    #print xvals, yvals\n",
    "    p1 = plt.bar(xvals, yvals)\n",
    "    plt.xlabel(\"Local Alignment Score\")\n",
    "    plt.ylabel(\"Proportion of Score/ Frequency to Total\")\n",
    "    plt.title(\"Normalized Distribution of Alignment Scores\")\n",
    "    plt.show()\n",
    "    #return total\n",
    "normalized_distribution_plot(human_fly_distribution, 1000)"
   ]
  },
  {
   "cell_type": "markdown",
   "metadata": {},
   "source": [
    "# Question 5"
   ]
  },
  {
   "cell_type": "code",
   "execution_count": 158,
   "metadata": {},
   "outputs": [],
   "source": [
    "def mean_stdev(distribution_dic):\n",
    "    \"\"\"\n",
    "    Give a distribution dictionary {score:frequency}\n",
    "    Compute mean and standard deviation of the distribution\n",
    "    \"\"\"\n",
    "    total = sum(key*distribution_dic[key] for key in distribution_dic)*1.0\n",
    "    mean = total/1000\n",
    "    \n",
    "    total = 0\n",
    "    for key in distribution_dic:\n",
    "        for num in range(distribution_dic[key]):\n",
    "            total +=(key-mean)**2\n",
    "    stdev = (total/1000)**(1/2)\n",
    "    return mean, stdev"
   ]
  },
  {
   "cell_type": "code",
   "execution_count": 164,
   "metadata": {},
   "outputs": [
    {
     "name": "stdout",
     "output_type": "stream",
     "text": [
      "822.975 52.025 1.0\n"
     ]
    }
   ],
   "source": [
    "mean, stdev = mean_stdev(human_fly_distribution)\n",
    "#knowing that the human&fly local score is 875\n",
    "score_z = (875-mean)/stdev\n",
    "print score_z, mean, stdev"
   ]
  },
  {
   "cell_type": "markdown",
   "metadata": {},
   "source": [
    "# Question 6"
   ]
  },
  {
   "cell_type": "markdown",
   "metadata": {},
   "source": [
    "The score resulting from the local alignment of the HumanEyelessProtein and the FruitflyEyelessProtein is NOT by chance. According to Wiki, we see that in normal distribution, the chance of staying outside 7*stdev from the mean is 1 / 390682215445. Our alignment score between human and fly shows that it is 822*stdev from its mean, meaning that this chance is even lower. \n",
    "The chance of winning Spain's Spanish Christmas Lottery is 1/(100,000*180*10), five-digit-number* num of series*10 decimos, is higher than the chance of getting such an alignment."
   ]
  },
  {
   "cell_type": "markdown",
   "metadata": {},
   "source": [
    "# Question 7"
   ]
  },
  {
   "cell_type": "code",
   "execution_count": null,
   "metadata": {},
   "outputs": [],
   "source": [
    "diag_score: 2\n",
    "off_diag_score: 1\n",
    "dash_score: 0"
   ]
  },
  {
   "cell_type": "markdown",
   "metadata": {},
   "source": [
    "# Question 8"
   ]
  },
  {
   "cell_type": "code",
   "execution_count": 15,
   "metadata": {},
   "outputs": [],
   "source": [
    "def load_dic():\n",
    "    \"\"\"\n",
    "    Use this function to load a dictionary\n",
    "    \"\"\"\n",
    "    data_file = urllib2.urlopen(\"http://storage.googleapis.com/codeskulptor-assets/assets_scrabble_words3.txt\")\n",
    "    data = data_file.read()\n",
    "    data_lines = data.split('\\n')\n",
    "    \n",
    "    dict_list = []\n",
    "    for line in data_lines:\n",
    "        dict_list.append(line)\n",
    "\n",
    "    return dict_list\n",
    "word_list = load_dic()"
   ]
  },
  {
   "cell_type": "code",
   "execution_count": 65,
   "metadata": {},
   "outputs": [],
   "source": [
    "alphabet_matrix = build_scoring_matrix('abcdefghijklmnopqrstuvwxyz',2 ,1 ,0)"
   ]
  },
  {
   "cell_type": "code",
   "execution_count": 81,
   "metadata": {},
   "outputs": [],
   "source": [
    "def compute_word_matrix_global(seq_x, seq_y, scoring_matrix):\n",
    "    \"\"\"\n",
    "    3rd version of compute_alignment_matrix to simplify computation\n",
    "    Compute word global alignment matrix by taking two sequences and a scoring matrix\n",
    "    \"\"\"\n",
    "    alignment_matrix = compute_alignment_matrix(seq_x, seq_y, alphabet_matrix, False)   \n",
    "    score = alignment_matrix[len(seq_x)][len(seq_y)]\n",
    "  \n",
    "    return score"
   ]
  },
  {
   "cell_type": "code",
   "execution_count": 87,
   "metadata": {},
   "outputs": [],
   "source": [
    "def check_spelling(checked_word,dist,word_list):\n",
    "    \"\"\"\n",
    "    iterates through word_list and returns the set of all words \n",
    "    that are within edit distance dist of the string checked_word\n",
    "    \"\"\"\n",
    "    suitable_list = []\n",
    "    len1 = len(checked_word)\n",
    "\n",
    "    for word in word_list:\n",
    "        score = compute_word_matrix_global(checked_word, word, alphabet_matrix)\n",
    "        if abs(len1+len(word)-score)<=dist:\n",
    "            suitable_list.append(word)\n",
    "\n",
    "    return suitable_list"
   ]
  },
  {
   "cell_type": "code",
   "execution_count": 88,
   "metadata": {},
   "outputs": [
    {
     "name": "stdout",
     "output_type": "stream",
     "text": [
      "['bumble', 'fumble', 'humble', 'humbled', 'humbler', 'humbles', 'humbly', 'jumble', 'mumble', 'rumble', 'tumble']\n"
     ]
    }
   ],
   "source": [
    "print check_spelling(\"humble\",1,word_list)"
   ]
  },
  {
   "cell_type": "code",
   "execution_count": 89,
   "metadata": {},
   "outputs": [
    {
     "name": "stdout",
     "output_type": "stream",
     "text": [
      "['direly', 'finely', 'fireclay', 'firefly', 'firmly', 'firstly', 'fixedly', 'freely', 'liefly', 'refly', 'tiredly']\n"
     ]
    }
   ],
   "source": [
    "print check_spelling(\"firefly\",2,word_list)"
   ]
  },
  {
   "cell_type": "markdown",
   "metadata": {},
   "source": [
    "# Question 9"
   ]
  },
  {
   "cell_type": "markdown",
   "metadata": {},
   "source": [
    "1. Check if the provided string is an actual word\n",
    "    Iterate through the provided list and keep those that exist in the word_list\n",
    "\n",
    "2. Focus on the three editing operations in Q7\n"
   ]
  }
 ],
 "metadata": {
  "kernelspec": {
   "display_name": "Python 2",
   "language": "python",
   "name": "python2"
  },
  "language_info": {
   "codemirror_mode": {
    "name": "ipython",
    "version": 2
   },
   "file_extension": ".py",
   "mimetype": "text/x-python",
   "name": "python",
   "nbconvert_exporter": "python",
   "pygments_lexer": "ipython2",
   "version": "2.7.16"
  }
 },
 "nbformat": 4,
 "nbformat_minor": 2
}
