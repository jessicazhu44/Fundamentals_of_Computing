{
 "cells": [
  {
   "cell_type": "code",
   "execution_count": 7,
   "metadata": {},
   "outputs": [],
   "source": [
    "\"\"\"\n",
    "Provided code for Application portion of Module 2\n",
    "\"\"\"\n",
    "# general imports\n",
    "import urllib2\n",
    "import random\n",
    "import time\n",
    "import math\n",
    "from collections import deque"
   ]
  },
  {
   "cell_type": "code",
   "execution_count": 2,
   "metadata": {},
   "outputs": [],
   "source": [
    "############################################\n",
    "# Provided code\n",
    "\n",
    "def copy_graph(graph):\n",
    "    \"\"\"\n",
    "    Make a copy of a graph\n",
    "    \"\"\"\n",
    "    new_graph = {}\n",
    "    for node in graph:\n",
    "        new_graph[node] = set(graph[node])\n",
    "    return new_graph\n",
    "\n",
    "def delete_node(ugraph, node):\n",
    "    \"\"\"\n",
    "    Delete a node from an undirected graph\n",
    "    \"\"\"\n",
    "    neighbors = ugraph[node]\n",
    "    ugraph.pop(node)\n",
    "    for neighbor in neighbors:\n",
    "        ugraph[neighbor].remove(node)"
   ]
  },
  {
   "cell_type": "code",
   "execution_count": 3,
   "metadata": {},
   "outputs": [],
   "source": [
    "##########################################################\n",
    "# Code for loading computer network graph\n",
    "\n",
    "NETWORK_URL = \"http://storage.googleapis.com/codeskulptor-alg/alg_rf7.txt\"\n",
    "\n",
    "def load_graph(graph_url):\n",
    "    \"\"\"\n",
    "    Function that loads a graph given the URL\n",
    "    for a text representation of the graph\n",
    "    \n",
    "    Returns a dictionary that models a graph\n",
    "    \"\"\"\n",
    "    graph_file = urllib2.urlopen(graph_url)\n",
    "    graph_text = graph_file.read()\n",
    "    graph_lines = graph_text.split('\\n')\n",
    "    graph_lines = graph_lines[ : -1]\n",
    "    \n",
    "    print \"Loaded graph with\", len(graph_lines), \"nodes\"\n",
    "    \n",
    "    answer_graph = {}\n",
    "    for line in graph_lines:\n",
    "        neighbors = line.split(' ')\n",
    "        node = int(neighbors[0])\n",
    "        answer_graph[node] = set([])\n",
    "        for neighbor in neighbors[1 : -1]:\n",
    "            answer_graph[node].add(int(neighbor))\n",
    "\n",
    "    return answer_graph"
   ]
  },
  {
   "cell_type": "code",
   "execution_count": 5,
   "metadata": {},
   "outputs": [],
   "source": [
    "#generate random directed graphs with probability p/ ER graph\n",
    "def ER_graph(length, probability):\n",
    "    \"\"\"\n",
    "    Add edges randomly to create undirected ER graph\n",
    "    Return a graph\n",
    "    \"\"\"\n",
    "    graph={}\n",
    "    \n",
    "    if length == 0:\n",
    "        return graph\n",
    "    else:\n",
    "        for node in range(length):\n",
    "            graph[node] = set()\n",
    "        \n",
    "        for node in range(length):\n",
    "            for dummy_i in range(length):\n",
    "                if random.random() < probability and node != dummy_i:\n",
    "                    graph[node].add(dummy_i)\n",
    "                    graph[dummy_i].add(node)\n",
    "                    \n",
    "    return graph\n",
    "\n",
    "\n",
    "class UPATrial:\n",
    "    \"\"\"\n",
    "    Simple class to encapsulate optimizated trials for the UPA algorithm\n",
    "    \n",
    "    Maintains a list of node numbers with multiple instance of each number.\n",
    "    The number of instances of each node number are\n",
    "    in the same proportion as the desired probabilities\n",
    "    \n",
    "    Uses random.choice() to select a node number from this list for each trial.\n",
    "    \"\"\"\n",
    "\n",
    "    def __init__(self, num_nodes):\n",
    "        \"\"\"\n",
    "        Initialize a UPATrial object corresponding to a \n",
    "        complete graph with num_nodes nodes\n",
    "        \n",
    "        Note the initial list of node numbers has num_nodes copies of\n",
    "        each node number\n",
    "        \"\"\"\n",
    "        self._num_nodes = num_nodes\n",
    "        self._node_numbers = [node for node in range(num_nodes) for dummy_idx in range(num_nodes)]\n",
    "\n",
    "\n",
    "    def run_trial(self, num_nodes):\n",
    "        \"\"\"\n",
    "        Conduct num_nodes trials using by applying random.choice()\n",
    "        to the list of node numbers\n",
    "        \n",
    "        Updates the list of node numbers so that each node number\n",
    "        appears in correct ratio\n",
    "        \n",
    "        Returns:\n",
    "        Set of nodes\n",
    "        \"\"\"\n",
    "        # compute the neighbors for the newly-created node\n",
    "        new_node_neighbors = set()\n",
    "        for dummy_idx in range(num_nodes):\n",
    "            new_node_neighbors.add(random.choice(self._node_numbers))\n",
    "        \n",
    "        # update the list of node numbers so that each node number \n",
    "        # appears in the correct ratio\n",
    "        self._node_numbers.append(self._num_nodes)\n",
    "        for dummy_idx in range(len(new_node_neighbors)):\n",
    "            self._node_numbers.append(self._num_nodes)\n",
    "        self._node_numbers.extend(list(new_node_neighbors))\n",
    "        \n",
    "        #update the number of nodes\n",
    "        self._num_nodes += 1\n",
    "        return new_node_neighbors"
   ]
  },
  {
   "cell_type": "code",
   "execution_count": 6,
   "metadata": {},
   "outputs": [],
   "source": [
    "def make_complete_graph(num_nodes):\n",
    "    '''\n",
    "    Returns a dictionary corresponding to\n",
    "    a complete directed graph with the specified \n",
    "    number of nodes\n",
    "    '''\n",
    "    graph={}\n",
    "    if num_nodes==0:\n",
    "        return graph\n",
    "    else:\n",
    "        for node in range(num_nodes):\n",
    "            edge = [dummy_i for dummy_i in range(num_nodes) \\\n",
    "                    if node != dummy_i]\n",
    "            graph[node] = set(edge)\n",
    "        return graph\n",
    "      \n",
    "def upa_graph(node_num, m):\n",
    "    '''\n",
    "    Generate a full graph using algorithm UPA\n",
    "    \n",
    "    node_num: final number of nodes\n",
    "    m: the existing number of nodes\n",
    "    '''\n",
    "    in_graph=make_complete_graph(m)\n",
    "    dpa=UPATrial(m)\n",
    "    for dummy_i in range(m, node_num):\n",
    "        node_list= dpa.run_trial(m)\n",
    "        in_graph[dummy_i] = node_list\n",
    "        for node in node_list:\n",
    "            in_graph[node].add(dummy_i)\n",
    "            \n",
    "    return in_graph"
   ]
  },
  {
   "cell_type": "code",
   "execution_count": 84,
   "metadata": {},
   "outputs": [],
   "source": [
    "\"\"\"\n",
    "Breadth-First Search\n",
    "\"\"\"\n",
    "def bfs_visited(ugraph,start_node):\n",
    "    \"\"\"\n",
    "    Implement BFS_visited algorithm\n",
    "    Return a list of visited nodes/ nodes connected with start_node\n",
    "    \"\"\"\n",
    "    a_queue=deque()\n",
    "    visited=[start_node]\n",
    "    a_queue.append(start_node)\n",
    "    \n",
    "    while len(a_queue) !=0:\n",
    "        dummy_j=a_queue.pop()\n",
    "        for node in ugraph[dummy_j]:\n",
    "            if node not in visited:\n",
    "                visited.append(node)\n",
    "                a_queue.append(node)\n",
    "\n",
    "    return set(visited)\n",
    "\n",
    "def cc_visited(ugraph):\n",
    "    \"\"\"\n",
    "    Take undirected graph and returns a list of sets,\n",
    "    each set consists of all the nodes in a connected component\n",
    "    \"\"\"\n",
    "    remains=ugraph.keys()\n",
    "    cc_part=[]\n",
    "    \n",
    "    while remains != []:\n",
    "        cluster = bfs_visited(ugraph, remains[0])\n",
    "        for node in cluster:\n",
    "            remains.remove(node)\n",
    "        cc_part.append(set(cluster))\n",
    "        \n",
    "    return cc_part\n",
    "\n",
    "def largest_cc_size(ugraph):\n",
    "    \"\"\"\n",
    "    Takes undirected graph\n",
    "    Returns the size of the largest connected component in the graph\n",
    "    \"\"\"\n",
    "    cc_part = cc_visited(ugraph)\n",
    "    leng = 0\n",
    "    for part in cc_part:\n",
    "        if len(part) > leng:\n",
    "            leng = len(part)\n",
    "    \n",
    "    return leng\n",
    "\n",
    "def compute_resilience(ugraph, attack_order):\n",
    "    \"\"\"\n",
    "    Takes undirected ugraph, and attack order\n",
    "    \"\"\"\n",
    "    size_list=[largest_cc_size(ugraph)]\n",
    "    \n",
    "    for dummy_i in attack_order:\n",
    "        attacked = ugraph.pop(dummy_i)\n",
    "        for node in attacked:  \n",
    "            ugraph[node].remove(dummy_i)\n",
    "        \n",
    "        size_list.append(largest_cc_size(ugraph))\n",
    "    \n",
    "    return size_list"
   ]
  },
  {
   "cell_type": "markdown",
   "metadata": {},
   "source": [
    "# Question 1"
   ]
  },
  {
   "cell_type": "markdown",
   "metadata": {},
   "source": [
    "Dataset has 1239 nodes and 3047 edges. \n",
    "\n",
    "1. Determine the probability such that ER graph has about the same number of edges as computer network.\n",
    "p=0.002\n",
    "2. Compute an integer m so that the number of edges in the UPA graph is close to the number of edges in comp network.\n",
    "m=3"
   ]
  },
  {
   "cell_type": "code",
   "execution_count": 320,
   "metadata": {},
   "outputs": [
    {
     "name": "stdout",
     "output_type": "stream",
     "text": [
      "3115\n"
     ]
    }
   ],
   "source": [
    "test=ER_graph(1239, 0.002)\n",
    "\n",
    "#count the number of undirected edges of an graph\n",
    "def count_edge(digraph):\n",
    "    count=0\n",
    "    \n",
    "    for key in digraph:\n",
    "        for item in digraph[key]:\n",
    "            if item > key:\n",
    "                count+=1\n",
    "    return count \n",
    "\n",
    "print count_edge(test)"
   ]
  },
  {
   "cell_type": "code",
   "execution_count": 71,
   "metadata": {},
   "outputs": [
    {
     "name": "stdout",
     "output_type": "stream",
     "text": [
      "[1, 0, 2]\n"
     ]
    }
   ],
   "source": [
    "def random_order(digraph):\n",
    "    \"\"\"\n",
    "    Takes a graph and returns a list of the nodes in the graph in some random order\n",
    "    \"\"\"\n",
    "    node_list=digraph.keys()\n",
    "    random.shuffle(node_list)\n",
    "    return node_list"
   ]
  },
  {
   "cell_type": "code",
   "execution_count": 247,
   "metadata": {},
   "outputs": [
    {
     "name": "stdout",
     "output_type": "stream",
     "text": [
      "Loaded graph with 1239 nodes\n"
     ]
    }
   ],
   "source": [
    "#create three graphs\n",
    "computer_network = load_graph(NETWORK_URL)\n",
    "ER = ER_graph(1239, 0.002)\n",
    "UPA = upa_graph(1239, 3)"
   ]
  },
  {
   "cell_type": "code",
   "execution_count": 107,
   "metadata": {},
   "outputs": [],
   "source": [
    "# compute attack-order\n",
    "cn_attack_order = random_order(computer_network)\n",
    "er_attack_order = random_order(ER)\n",
    "upa_attack_order = random_order(UPA)"
   ]
  },
  {
   "cell_type": "code",
   "execution_count": 108,
   "metadata": {},
   "outputs": [],
   "source": [
    "#Compute resilience of the graph\n",
    "cn_resilience = compute_resilience(computer_network, attack_order)\n",
    "er_resilience = compute_resilience(ER, er_attack_order)\n",
    "upa_resilience = compute_resilience(UPA, upa_attack_order)"
   ]
  },
  {
   "cell_type": "code",
   "execution_count": 114,
   "metadata": {},
   "outputs": [
    {
     "name": "stdout",
     "output_type": "stream",
     "text": [
      "1240\n"
     ]
    }
   ],
   "source": [
    "print len(upa_resilience)"
   ]
  },
  {
   "cell_type": "code",
   "execution_count": 292,
   "metadata": {},
   "outputs": [],
   "source": [
    "import matplotlib.pyplot as pldt\n",
    "import time"
   ]
  },
  {
   "cell_type": "code",
   "execution_count": 307,
   "metadata": {},
   "outputs": [
    {
     "data": {
      "image/png": "[encoded data removed]",
      "text/plain": [
       "<Figure size 432x288 with 1 Axes>"
      ]
     },
     "metadata": {
      "needs_background": "light"
     },
     "output_type": "display_data"
    }
   ],
   "source": [
    "def graph_resilience():\n",
    "    \"\"\"\n",
    "    Plot resilience curve: computer_network, ER graph and UPA\n",
    "    x-axis is the number of nodes removed\n",
    "    \"\"\"\n",
    "    nodes_removed = range(1240)\n",
    "    cn = cn_resilience\n",
    "    er = er_resilience\n",
    "    upa = upa_resilience\n",
    "\n",
    "    plt.plot(nodes_removed, cn, '-b', label='computer network')\n",
    "    plt.plot(nodes_removed, er, '-r', label='ER, p=0.002')\n",
    "    plt.plot(nodes_removed, upa, '-g', label='UPA, m=3')\n",
    "    plt.legend(loc='upper right')\n",
    "    plt.title(\"Resilience of Networks by Random Attacks\")\n",
    "    plt.xlabel('Number of Nodes Removed')\n",
    "    plt.ylabel('Resilience / largest_size')\n",
    "    plt.show()\n",
    "\n",
    "graph_resilience()"
   ]
  },
  {
   "cell_type": "markdown",
   "metadata": {},
   "source": [
    "# Question 2"
   ]
  },
  {
   "cell_type": "markdown",
   "metadata": {},
   "source": [
    "Which of the three graphs are resilient under random attacks as the first 20% of their nodes are removed?\n",
    "Both the ER and UPA networks are resilient. Computer Network is not very resilient."
   ]
  },
  {
   "cell_type": "markdown",
   "metadata": {},
   "source": [
    "# Question 3"
   ]
  },
  {
   "cell_type": "code",
   "execution_count": null,
   "metadata": {},
   "outputs": [],
   "source": [
    "def targeted_order(ugraph):\n",
    "    \"\"\"\n",
    "    Compute a targeted attack order consisting\n",
    "    of nodes of maximal degree\n",
    "    \n",
    "    Returns:\n",
    "    A list of nodes\n",
    "    \"\"\"\n",
    "    # copy the graph\n",
    "    new_graph = copy_graph(ugraph)\n",
    "    \n",
    "    order = []    \n",
    "    while len(new_graph) > 0:\n",
    "        max_degree = -1\n",
    "        for node in new_graph:\n",
    "            if len(new_graph[node]) > max_degree:\n",
    "                max_degree = len(new_graph[node])\n",
    "                max_degree_node = node\n",
    "        \n",
    "        neighbors = new_graph[max_degree_node]\n",
    "        new_graph.pop(max_degree_node)\n",
    "        for neighbor in neighbors:\n",
    "            new_graph[neighbor].remove(max_degree_node)\n",
    "\n",
    "        order.append(max_degree_node)\n",
    "    return order"
   ]
  },
  {
   "cell_type": "code",
   "execution_count": 290,
   "metadata": {},
   "outputs": [],
   "source": [
    "def fast_targeted_order(in_graph):\n",
    "    \"\"\"\n",
    "    A list degree_sets, iterate through degree_sets in the order of descreasing degree;\n",
    "    Repeatedly choose a node from the set, delete the node from the graph and updates degree_sets properly.\n",
    "    \"\"\"\n",
    "    degree_set=[]\n",
    "    new_graph = copy_graph(in_graph) \n",
    " \n",
    "    for key in new_graph:\n",
    "        degree_set.append(set())      # degree_set[k] is a set of all nodes whose degree is k\n",
    "\n",
    "    for node in new_graph:\n",
    "        degree = len(in_graph[node])    # degree is the degree of node i\n",
    "        degree_set[degree].add(node)\n",
    "\n",
    "    order_list = []\n",
    "    graph_length = len(in_graph)\n",
    "\n",
    "    for dummy_k in range(graph_length-1,-1,-1):       \n",
    "        while len(degree_set[dummy_k]) != 0:\n",
    "            max_degree_node = degree_set[dummy_k].pop()\n",
    "            neighbors = new_graph[max_degree_node]\n",
    "            for neighbor in neighbors:\n",
    "                neighbor_degree = len(new_graph[neighbor]) \n",
    "                degree_set[neighbor_degree].remove(neighbor)\n",
    "                degree_set[neighbor_degree -1].add(neighbor)\n",
    "                new_graph[neighbor].remove(max_degree_node)\n",
    "            order_list.append(max_degree_node)\n",
    "            new_graph.pop(max_degree_node)\n",
    "    \n",
    "    return order_list"
   ]
  },
  {
   "cell_type": "code",
   "execution_count": 303,
   "metadata": {
    "scrolled": true
   },
   "outputs": [],
   "source": [
    "def time_simulation():\n",
    "    normal = []\n",
    "    fast = []\n",
    "    \n",
    "    for n in range(10, 1000, 10):\n",
    "        start = time.time()\n",
    "        targeted_order(upa_graph(n,5))\n",
    "        end = time.time()\n",
    "        normal.append(end-start)\n",
    "    \n",
    "    for n in range(10, 1000, 10):\n",
    "        start = time.time()\n",
    "        fast_targeted_order(upa_graph(n,5))\n",
    "        end = time.time()\n",
    "        fast.append(end-start)        \n",
    "          \n",
    "    return normal, fast"
   ]
  },
  {
   "cell_type": "code",
   "execution_count": 310,
   "metadata": {},
   "outputs": [
    {
     "data": {
      "image/png": "[encoded data removed]",
      "text/plain": [
       "<Figure size 432x288 with 1 Axes>"
      ]
     },
     "metadata": {
      "needs_background": "light"
     },
     "output_type": "display_data"
    }
   ],
   "source": [
    "def graph_running_time():\n",
    "    \"\"\"\n",
    "    Plot run_time curve by two different algorithms: UPA\n",
    "    x-axis is the final number of nodes\n",
    "    \"\"\"\n",
    "    final_num_node = range(10, 1000, 10)\n",
    "    normal, fast = time_simulation()\n",
    "\n",
    "    plt.plot(final_num_node, normal, '-b', label='normal targeted order')\n",
    "    plt.plot(final_num_node, fast, '-r', label='fast targeted order')\n",
    "    plt.legend(loc='upper right')\n",
    "    plt.title(\"Running Time of Two Algorithms (desktop Python)\")\n",
    "    plt.xlabel('Number of Nodes')\n",
    "    plt.ylabel('Running Time')\n",
    "    plt.show()\n",
    "\n",
    "graph_running_time()"
   ]
  },
  {
   "cell_type": "markdown",
   "metadata": {},
   "source": [
    "What are tight upper bounds on the worst-case running times of the two?\n",
    "targeted_order: O(n^2)\n",
    "fast_targeted_order: O(2n)"
   ]
  },
  {
   "cell_type": "code",
   "execution_count": 243,
   "metadata": {},
   "outputs": [],
   "source": [
    "EX_GRAPH0={0: set([1,2]), 1: set([0]), 2: set([1])}\n",
    "\n",
    "EX_GRAPH1={0: set([1,4]), 1: set([0, 2]), 2: set([1]),\n",
    "           3: set([4]), 4: set([3]), 5: set([]),6: set([])}\n",
    "\n",
    "EX_GRAPH2={0: set([1,4,5]), 1: set([2,6]), 2: set([3,7]),\n",
    "           3: set([7]), 4: set([1]), 5: set([2]),\n",
    "           6: set([]), 7: set([3]), 8: set([1,2]), 9: set([0,3,4,5,6,7])}"
   ]
  },
  {
   "cell_type": "markdown",
   "metadata": {},
   "source": [
    "# Question 4"
   ]
  },
  {
   "cell_type": "code",
   "execution_count": 314,
   "metadata": {},
   "outputs": [],
   "source": [
    "# using fast_targeted_order to compute a targeted attacked order for each of the three graphs\n",
    "cn_order = fast_targeted_order(computer_network)\n",
    "ER_order = fast_targeted_order(ER)\n",
    "UPA_order = fast_targeted_order(UPA)"
   ]
  },
  {
   "cell_type": "code",
   "execution_count": 315,
   "metadata": {},
   "outputs": [],
   "source": [
    "# compute the resilience of each of the graph\n",
    "cn_resilience_fast = compute_resilience(computer_network, cn_order)\n",
    "er_resilience_fast = compute_resilience(ER, ER_order)\n",
    "upa_resilience_fast = compute_resilience(UPA, UPA_order)"
   ]
  },
  {
   "cell_type": "code",
   "execution_count": 317,
   "metadata": {},
   "outputs": [
    {
     "data": {
      "image/png": "[encoded data removed]",
      "text/plain": [
       "<Figure size 432x288 with 1 Axes>"
      ]
     },
     "metadata": {
      "needs_background": "light"
     },
     "output_type": "display_data"
    }
   ],
   "source": [
    "def graph_resilience_fast():\n",
    "    \"\"\"\n",
    "    Plot resilience curve: computer_network, ER graph and UPA\n",
    "    x-axis is the number of nodes removed\n",
    "    \"\"\"\n",
    "    nodes_removed = range(1240)\n",
    "    cn = cn_resilience_fast\n",
    "    er = er_resilience_fast\n",
    "    upa = upa_resilience_fast\n",
    "\n",
    "    plt.plot(nodes_removed, cn, '-b', label='computer network')\n",
    "    plt.plot(nodes_removed, er, '-r', label='ER, p=0.002')\n",
    "    plt.plot(nodes_removed, upa, '-g', label='UPA, m=3')\n",
    "    plt.legend(loc='upper right')\n",
    "    plt.title(\"Resilience of Networks by Fast Attacks\")\n",
    "    plt.xlabel('Number of Nodes Removed')\n",
    "    plt.ylabel('Resilience / largest_size')\n",
    "    plt.show()\n",
    "\n",
    "graph_resilience_fast()\n"
   ]
  },
  {
   "cell_type": "markdown",
   "metadata": {},
   "source": [
    "# Question 5"
   ]
  },
  {
   "cell_type": "markdown",
   "metadata": {},
   "source": [
    "UPA (m=3) is resilience after the first 20% of nodes removed, point around (240, 960)"
   ]
  }
 ],
 "metadata": {
  "kernelspec": {
   "display_name": "Python 2",
   "language": "python",
   "name": "python2"
  },
  "language_info": {
   "codemirror_mode": {
    "name": "ipython",
    "version": 2
   },
   "file_extension": ".py",
   "mimetype": "text/x-python",
   "name": "python",
   "nbconvert_exporter": "python",
   "pygments_lexer": "ipython2",
   "version": "2.7.16"
  }
 },
 "nbformat": 4,
 "nbformat_minor": 2
}
